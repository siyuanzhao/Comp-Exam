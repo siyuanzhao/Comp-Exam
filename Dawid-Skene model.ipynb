{
 "cells": [
  {
   "cell_type": "markdown",
   "metadata": {},
   "source": [
    "Code is stolen from https://pymc-devs.github.io/pymc3/notebooks/dawid-skene.html\n",
    "\n",
    "I collect code here for easy reference and my experiments.\n",
    "\n",
    "The data can be found from this repo https://github.com/abhishekmalali/questioning-strategy-classification\n",
    "\n",
    "The model follows the implementation in https://aclweb.org/anthology/W/W13/W13-2323.pdf"
   ]
  },
  {
   "cell_type": "code",
   "execution_count": 1,
   "metadata": {
    "collapsed": false
   },
   "outputs": [
    {
     "name": "stderr",
     "output_type": "stream",
     "text": [
      "WARNING (theano.sandbox.cuda): The cuda backend is deprecated and will be removed in the next release (v0.10).  Please switch to the gpuarray backend. You can get more information about how to switch at this URL:\n",
      " https://github.com/Theano/Theano/wiki/Converting-to-the-new-gpu-back-end%28gpuarray%29\n",
      "\n",
      "Using gpu device 0: GeForce GTX 1080 (CNMeM is enabled with initial size: 80.0% of memory, cuDNN 5005)\n"
     ]
    }
   ],
   "source": [
    "%matplotlib inline\n",
    "\n",
    "import pymc3 as pm\n",
    "import numpy as np\n",
    "import matplotlib.pyplot as plt\n",
    "\n",
    "from sklearn.metrics import confusion_matrix"
   ]
  },
  {
   "cell_type": "code",
   "execution_count": 2,
   "metadata": {
    "collapsed": false
   },
   "outputs": [],
   "source": [
    "data_file = 'data/extrahard_MC_500_5_4.npz.npy'\n",
    "truth_file = 'data/extrahard_MC_500_5_4_reference_classes.npy'\n",
    "\n",
    "data = np.load( data_file )\n",
    "z_true = np.load( truth_file )\n",
    "\n",
    "I = data.shape[0]               # number of items\n",
    "J = data.shape[1]               # number of annotators\n",
    "K = data.shape[2]               # number of classes\n",
    "N = I * J"
   ]
  },
  {
   "cell_type": "code",
   "execution_count": 3,
   "metadata": {
    "collapsed": true
   },
   "outputs": [],
   "source": [
    "# create data triplets\n",
    "jj = list()  # annotator IDs\n",
    "ii = list()  # item IDs\n",
    "y = list()   # response\n",
    "\n",
    "# initialize true category with majority votes\n",
    "z_init = np.zeros( I, dtype=np.int64 )\n",
    "\n",
    "# create data triplets\n",
    "for i in range( I ):\n",
    "    ks = list()\n",
    "    for j in range( J ):\n",
    "        dat = data[ i, j, : ]\n",
    "        k = np.where( dat == 1 )[0][0]\n",
    "        ks.append( k )\n",
    "        ii.append( i )\n",
    "        jj.append( j )\n",
    "        y.append( k )\n",
    "\n",
    "    # getting maj vote for work item i (dealing with numpy casts)\n",
    "    z_init[ i ] = np.bincount( np.array( ks ) ).argmax()"
   ]
  },
  {
   "cell_type": "code",
   "execution_count": 4,
   "metadata": {
    "collapsed": false
   },
   "outputs": [
    {
     "name": "stdout",
     "output_type": "stream",
     "text": [
      "('Majority vote estimate of true category:\\n', array([[120,   2,   1,   2],\n",
      "       [  5, 116,   4,   0],\n",
      "       [  4,   6, 113,   2],\n",
      "       [  4,   3,   3, 115]]))\n"
     ]
    }
   ],
   "source": [
    "confMat = confusion_matrix( z_true, z_init )\n",
    "print( \"Majority vote estimate of true category:\\n\" , confMat )"
   ]
  },
  {
   "cell_type": "code",
   "execution_count": 5,
   "metadata": {
    "collapsed": true
   },
   "outputs": [],
   "source": [
    "# class prevalence (flat prior)\n",
    "alpha = np.ones( K )\n",
    "\n",
    "# individual annotator confusion matrices - dominant diagonal\n",
    "beta = np.ones( (K,K) ) + np.diag( np.ones(K) )"
   ]
  },
  {
   "cell_type": "code",
   "execution_count": 6,
   "metadata": {
    "collapsed": false
   },
   "outputs": [],
   "source": [
    "model = pm.Model()\n",
    "\n",
    "with model:\n",
    "    pi = pm.Dirichlet( 'pi', a=alpha, shape=K ) # r the probability that an item is of category k\n",
    "    theta = pm.Dirichlet( 'theta', a=beta, shape=(J,K,K) )\n",
    "    z = pm.Categorical( 'z', p=pi, shape=I, testval=z_init ) # the true category of item i\n",
    "    y_obs = pm.Categorical( 'y_obs', p=theta[ jj, z[ ii ] ], observed=y)"
   ]
  },
  {
   "cell_type": "code",
   "execution_count": 7,
   "metadata": {
    "collapsed": false
   },
   "outputs": [
    {
     "name": "stderr",
     "output_type": "stream",
     "text": [
      "100%|██████████| 5000/5000 [12:27<00:00,  5.27it/s]\n"
     ]
    }
   ],
   "source": [
    "with model:\n",
    "    step1 = pm.Metropolis( vars=[pi,theta] )\n",
    "    step2 = pm.CategoricalGibbsMetropolis( vars=[z] )\n",
    "    trace = pm.sample( 5000, step=[step1, step2], progressbar=True )"
   ]
  }
 ],
 "metadata": {
  "kernelspec": {
   "display_name": "Python 2",
   "language": "python",
   "name": "python2"
  },
  "language_info": {
   "codemirror_mode": {
    "name": "ipython",
    "version": 2
   },
   "file_extension": ".py",
   "mimetype": "text/x-python",
   "name": "python",
   "nbconvert_exporter": "python",
   "pygments_lexer": "ipython2",
   "version": "2.7.12"
  }
 },
 "nbformat": 4,
 "nbformat_minor": 1
}
